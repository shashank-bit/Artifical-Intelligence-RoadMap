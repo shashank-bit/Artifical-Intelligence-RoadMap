{
 "cells": [
  {
   "cell_type": "code",
   "execution_count": 1,
   "metadata": {},
   "outputs": [
    {
     "data": {
      "text/plain": [
       "'D:\\\\Simplilearn Goal'"
      ]
     },
     "execution_count": 1,
     "metadata": {},
     "output_type": "execute_result"
    }
   ],
   "source": [
    "import os\n",
    "os.chdir('D:\\Simplilearn Goal')\n",
    "os.getcwd()"
   ]
  },
  {
   "cell_type": "code",
   "execution_count": 54,
   "metadata": {},
   "outputs": [
    {
     "name": "stdout",
     "output_type": "stream",
     "text": [
      "Fast_version 0\n"
     ]
    }
   ],
   "source": [
    "import gzip\n",
    "import gensim\n",
    "from gensim.models import Word2Vec;prin t('Fast_version',word2vec.FAST_VERSION)"
   ]
  },
  {
   "cell_type": "code",
   "execution_count": 3,
   "metadata": {},
   "outputs": [],
   "source": [
    "#gensim:-\n",
    "#Gensim is implemented in Python and Cython. Gensim is designed to handle large text collections using data streaming and \n",
    "#incremental online algorithms, which differentiates it from most other machine learning software packages that target \n",
    "#only in-memory processing. "
   ]
  },
  {
   "cell_type": "code",
   "execution_count": 13,
   "metadata": {},
   "outputs": [
    {
     "name": "stdout",
     "output_type": "stream",
     "text": [
      "b'\\xef\\xbb\\xbfThe Project Gutenberg EBook of Alice in Wonderland, by Lewis Carroll\\r\\n'\n"
     ]
    }
   ],
   "source": [
    "data_file='alice.txt'\n",
    "with open(data_file,'rb') as f:\n",
    "    for i,line in enumerate(f):\n",
    "        print(line)\n",
    "        break"
   ]
  },
  {
   "cell_type": "code",
   "execution_count": 14,
   "metadata": {},
   "outputs": [],
   "source": [
    "def read_input(input_file):\n",
    "    with open(input_file,'rb') as f:\n",
    "        for i,line in enumerate(f):\n",
    "            yield gensim.utils.simple_preprocess(line)"
   ]
  },
  {
   "cell_type": "code",
   "execution_count": 15,
   "metadata": {},
   "outputs": [],
   "source": [
    "document_inputfile=list(read_input(data_file))"
   ]
  },
  {
   "cell_type": "code",
   "execution_count": 7,
   "metadata": {},
   "outputs": [],
   "source": [
    "#training the model using word2vec"
   ]
  },
  {
   "cell_type": "code",
   "execution_count": 45,
   "metadata": {},
   "outputs": [
    {
     "data": {
      "text/plain": [
       "(79713, 123610)"
      ]
     },
     "execution_count": 45,
     "metadata": {},
     "output_type": "execute_result"
    }
   ],
   "source": [
    "model_cowbag=gensim.models.Word2Vec(document_inputfile,size=100,window=5,min_count=2,workers=50)\n",
    "model_cowbag1=gensim.models.Word2Vec(document_inputfile,size=150,window=10,min_count=2,workers=50)\n",
    "model.train(document_inputfile,total_examples=len(document_inputfile),epochs=10)"
   ]
  },
  {
   "cell_type": "code",
   "execution_count": 46,
   "metadata": {},
   "outputs": [
    {
     "name": "stdout",
     "output_type": "stream",
     "text": [
      "Cosine similarity between 'alice ' and 'wonderland' - CBOW :  0.9908413\n",
      "Cosine similarity between 'alice ' and 'wonderland' - CBOW :  0.9935896\n"
     ]
    }
   ],
   "source": [
    "import warnings\n",
    "warnings.filterwarnings('ignore')\n",
    "\n",
    "print(\"Cosine similarity between 'alice ' \" + \n",
    "               \"and 'wonderland' - CBOW : \", \n",
    "    model_cowbag.similarity('alice', 'wonderland'))\n",
    "print(\"Cosine similarity between 'alice ' \" + \n",
    "               \"and 'wonderland' - CBOW : \", \n",
    "    model_cowbag1.similarity('alice', 'wonderland'))"
   ]
  },
  {
   "cell_type": "code",
   "execution_count": 42,
   "metadata": {},
   "outputs": [],
   "source": [
    "model21 = gensim.models.Word2Vec(document_inputfile, min_count = 1, size = 100, \n",
    "                                             window = 5, sg = 1) "
   ]
  },
  {
   "cell_type": "code",
   "execution_count": 43,
   "metadata": {},
   "outputs": [],
   "source": [
    "model2 = gensim.models.Word2Vec(document_inputfile, min_count = 1, size = 150, \n",
    "                                             window = 10, sg = 1) "
   ]
  },
  {
   "cell_type": "code",
   "execution_count": 44,
   "metadata": {},
   "outputs": [
    {
     "name": "stdout",
     "output_type": "stream",
     "text": [
      "Cosine similarity between 'alice' and 'machine' - Skip Gram :  0.9850007\n",
      "Cosine similarity between 'alice' and 'machine' - Skip Gram :  0.99737406\n"
     ]
    }
   ],
   "source": [
    "print(\"Cosine similarity between 'alice' \" +\n",
    "          \"and 'machine' - Skip Gram : \", model21.similarity('alice', 'machine'))\n",
    "print(\"Cosine similarity between 'alice' \" +\n",
    "          \"and 'machine' - Skip Gram : \", model2.similarity('alice', 'machine'))"
   ]
  },
  {
   "cell_type": "code",
   "execution_count": 38,
   "metadata": {},
   "outputs": [
    {
     "data": {
      "text/plain": [
       "[('of', 0.9993059635162354),\n",
       " ('or', 0.9992613196372986),\n",
       " ('with', 0.9992533326148987),\n",
       " ('by', 0.9992529153823853),\n",
       " ('ebooks', 0.9992529153823853),\n",
       " ('donations', 0.9992505311965942),\n",
       " ('www', 0.9992495179176331),\n",
       " ('forth', 0.9992461800575256),\n",
       " ('this', 0.999243974685669),\n",
       " ('other', 0.999233067035675)]"
      ]
     },
     "execution_count": 38,
     "metadata": {},
     "output_type": "execute_result"
    }
   ],
   "source": [
    "w1='wonderland'\n",
    "model.wv.most_similar(positive=w1)"
   ]
  },
  {
   "cell_type": "code",
   "execution_count": 47,
   "metadata": {},
   "outputs": [
    {
     "name": "stdout",
     "output_type": "stream",
     "text": [
      "b\"Oct 12 2009 \\tNice trendy hotel location not too bad.\\tI stayed in this hotel for one night. As this is a fairly new place some of the taxi drivers did not know where it was and/or did not want to drive there. Once I have eventually arrived at the hotel, I was very pleasantly surprised with the decor of the lobby/ground floor area. It was very stylish and modern. I found the reception's staff geeting me with 'Aloha' a bit out of place, but I guess they are briefed to say that to keep up the coroporate image.As I have a Starwood Preferred Guest member, I was given a small gift upon-check in. It was only a couple of fridge magnets in a gift box, but nevertheless a nice gesture.My room was nice and roomy, there are tea and coffee facilities in each room and you get two complimentary bottles of water plus some toiletries by 'bliss'.The location is not great. It is at the last metro stop and you then need to take a taxi, but if you are not planning on going to see the historic sites in Beijing, then you will be ok.I chose to have some breakfast in the hotel, which was really tasty and there was a good selection of dishes. There are a couple of computers to use in the communal area, as well as a pool table. There is also a small swimming pool and a gym area.I would definitely stay in this hotel again, but only if I did not plan to travel to central Beijing, as it can take a long time. The location is ok if you plan to do a lot of shopping, as there is a big shopping centre just few minutes away from the hotel and there are plenty of eating options around, including restaurants that serve a dog meat!\\r\\n\"\n"
     ]
    }
   ],
   "source": [
    "data_file='Reviews_Data_1.txt'\n",
    "with open(data_file,'rb') as f:\n",
    "    for i,line in enumerate(f):\n",
    "        print(line)\n",
    "        break"
   ]
  },
  {
   "cell_type": "code",
   "execution_count": 48,
   "metadata": {},
   "outputs": [],
   "source": [
    "def read_input(input_file):\n",
    "    with open(input_file,'rb') as f:\n",
    "        for i,line in enumerate(f):\n",
    "            yield gensim.utils.simple_preprocess(line)"
   ]
  },
  {
   "cell_type": "code",
   "execution_count": 49,
   "metadata": {},
   "outputs": [],
   "source": [
    "document_inputfile=list(read_input(data_file))"
   ]
  },
  {
   "cell_type": "code",
   "execution_count": 50,
   "metadata": {},
   "outputs": [
    {
     "data": {
      "text/plain": [
       "(8164, 17570)"
      ]
     },
     "execution_count": 50,
     "metadata": {},
     "output_type": "execute_result"
    }
   ],
   "source": [
    "model=gensim.models.Word2Vec(document_inputfile,size=150,window=10,min_count=2,workers=50)\n",
    "model.train(document_inputfile,total_examples=len(document_inputfile),epochs=10)"
   ]
  },
  {
   "cell_type": "code",
   "execution_count": 52,
   "metadata": {},
   "outputs": [
    {
     "data": {
      "text/plain": [
       "[('hotel', 0.9990983605384827),\n",
       " ('with', 0.9990949034690857),\n",
       " ('for', 0.9990724325180054),\n",
       " ('there', 0.9990711808204651),\n",
       " ('is', 0.9990708827972412),\n",
       " ('in', 0.9990683197975159),\n",
       " ('to', 0.9990612268447876),\n",
       " ('and', 0.9990503787994385),\n",
       " ('out', 0.9990488886833191),\n",
       " ('if', 0.9990456104278564)]"
      ]
     },
     "execution_count": 52,
     "metadata": {},
     "output_type": "execute_result"
    }
   ],
   "source": [
    "w1='restaurants'\n",
    "model.wv.most_similar(positive=w1)"
   ]
  },
  {
   "cell_type": "code",
   "execution_count": 53,
   "metadata": {},
   "outputs": [
    {
     "data": {
      "text/plain": [
       "[('with', 0.999823808670044),\n",
       " ('the', 0.9998214244842529),\n",
       " ('we', 0.9998149871826172),\n",
       " ('and', 0.9997985363006592),\n",
       " ('in', 0.9997958540916443),\n",
       " ('be', 0.9997865557670593),\n",
       " ('to', 0.9997848272323608),\n",
       " ('for', 0.9997824430465698),\n",
       " ('of', 0.9997779130935669),\n",
       " ('is', 0.9997734427452087)]"
      ]
     },
     "execution_count": 53,
     "metadata": {},
     "output_type": "execute_result"
    }
   ],
   "source": [
    "w2='location'\n",
    "model.wv.most_similar(positive=w2)"
   ]
  },
  {
   "cell_type": "code",
   "execution_count": null,
   "metadata": {},
   "outputs": [],
   "source": []
  },
  {
   "cell_type": "code",
   "execution_count": null,
   "metadata": {},
   "outputs": [],
   "source": []
  },
  {
   "cell_type": "code",
   "execution_count": null,
   "metadata": {},
   "outputs": [],
   "source": []
  },
  {
   "cell_type": "code",
   "execution_count": null,
   "metadata": {},
   "outputs": [],
   "source": []
  },
  {
   "cell_type": "code",
   "execution_count": null,
   "metadata": {},
   "outputs": [],
   "source": []
  },
  {
   "cell_type": "code",
   "execution_count": null,
   "metadata": {},
   "outputs": [],
   "source": []
  },
  {
   "cell_type": "code",
   "execution_count": null,
   "metadata": {},
   "outputs": [],
   "source": []
  },
  {
   "cell_type": "code",
   "execution_count": null,
   "metadata": {},
   "outputs": [],
   "source": []
  },
  {
   "cell_type": "code",
   "execution_count": null,
   "metadata": {},
   "outputs": [],
   "source": []
  }
 ],
 "metadata": {
  "kernelspec": {
   "display_name": "Python 3",
   "language": "python",
   "name": "python3"
  },
  "language_info": {
   "codemirror_mode": {
    "name": "ipython",
    "version": 3
   },
   "file_extension": ".py",
   "mimetype": "text/x-python",
   "name": "python",
   "nbconvert_exporter": "python",
   "pygments_lexer": "ipython3",
   "version": "3.7.4"
  }
 },
 "nbformat": 4,
 "nbformat_minor": 4
}
