{
 "cells": [
  {
   "cell_type": "code",
   "execution_count": 2,
   "metadata": {},
   "outputs": [],
   "source": [
    "import pandas as pd\n",
    "import numpy as np"
   ]
  },
  {
   "cell_type": "markdown",
   "metadata": {},
   "source": [
    "#### Using pandas, read in the text file\n",
    "- Use the right delimiter\n",
    "- The file has no header, while loading, give column names as label, text "
   ]
  },
  {
   "cell_type": "code",
   "execution_count": 3,
   "metadata": {},
   "outputs": [],
   "source": [
    "inp_docs = pd.read_table(\"r8-all-terms.txt\", sep=\"\\t\", names=['label','text'])"
   ]
  },
  {
   "cell_type": "code",
   "execution_count": 124,
   "metadata": {},
   "outputs": [
    {
     "data": {
      "text/plain": [
       "earn        2840\n",
       "acq         1596\n",
       "crude        253\n",
       "trade        251\n",
       "money-fx     206\n",
       "interest     190\n",
       "ship         108\n",
       "grain         41\n",
       "Name: label, dtype: int64"
      ]
     },
     "execution_count": 124,
     "metadata": {},
     "output_type": "execute_result"
    }
   ],
   "source": [
    "inp_docs.label.value_counts()"
   ]
  },
  {
   "cell_type": "code",
   "execution_count": 4,
   "metadata": {},
   "outputs": [
    {
     "data": {
      "text/html": [
       "<div>\n",
       "<style scoped>\n",
       "    .dataframe tbody tr th:only-of-type {\n",
       "        vertical-align: middle;\n",
       "    }\n",
       "\n",
       "    .dataframe tbody tr th {\n",
       "        vertical-align: top;\n",
       "    }\n",
       "\n",
       "    .dataframe thead th {\n",
       "        text-align: right;\n",
       "    }\n",
       "</style>\n",
       "<table border=\"1\" class=\"dataframe\">\n",
       "  <thead>\n",
       "    <tr style=\"text-align: right;\">\n",
       "      <th></th>\n",
       "      <th>label</th>\n",
       "      <th>text</th>\n",
       "    </tr>\n",
       "  </thead>\n",
       "  <tbody>\n",
       "    <tr>\n",
       "      <th>0</th>\n",
       "      <td>earn</td>\n",
       "      <td>champion products ch approves stock split cham...</td>\n",
       "    </tr>\n",
       "    <tr>\n",
       "      <th>1</th>\n",
       "      <td>acq</td>\n",
       "      <td>computer terminal systems cpml completes sale ...</td>\n",
       "    </tr>\n",
       "    <tr>\n",
       "      <th>2</th>\n",
       "      <td>earn</td>\n",
       "      <td>cobanco inc cbco year net shr cts vs dlrs net ...</td>\n",
       "    </tr>\n",
       "    <tr>\n",
       "      <th>3</th>\n",
       "      <td>earn</td>\n",
       "      <td>am international inc am nd qtr jan oper shr lo...</td>\n",
       "    </tr>\n",
       "    <tr>\n",
       "      <th>4</th>\n",
       "      <td>earn</td>\n",
       "      <td>brown forman inc bfd th qtr net shr one dlr vs...</td>\n",
       "    </tr>\n",
       "  </tbody>\n",
       "</table>\n",
       "</div>"
      ],
      "text/plain": [
       "  label                                               text\n",
       "0  earn  champion products ch approves stock split cham...\n",
       "1   acq  computer terminal systems cpml completes sale ...\n",
       "2  earn  cobanco inc cbco year net shr cts vs dlrs net ...\n",
       "3  earn  am international inc am nd qtr jan oper shr lo...\n",
       "4  earn  brown forman inc bfd th qtr net shr one dlr vs..."
      ]
     },
     "execution_count": 4,
     "metadata": {},
     "output_type": "execute_result"
    }
   ],
   "source": [
    "inp_docs.head()"
   ]
  },
  {
   "cell_type": "markdown",
   "metadata": {},
   "source": [
    "#### Get the text data into a list for easy manipulation"
   ]
  },
  {
   "cell_type": "code",
   "execution_count": 5,
   "metadata": {},
   "outputs": [],
   "source": [
    "articles0 = inp_docs.text.values"
   ]
  },
  {
   "cell_type": "code",
   "execution_count": 6,
   "metadata": {},
   "outputs": [
    {
     "data": {
      "text/plain": [
       "5485"
      ]
     },
     "execution_count": 6,
     "metadata": {},
     "output_type": "execute_result"
    }
   ],
   "source": [
    "# Checking the length of the new list.\n",
    "len(articles0)"
   ]
  },
  {
   "cell_type": "code",
   "execution_count": 9,
   "metadata": {},
   "outputs": [
    {
     "data": {
      "text/plain": [
       "array(['champion products ch approves stock split champion products inc said its board of directors approved a two for one stock split of its common shares for shareholders of record as of april the company also said its board voted to recommend to shareholders at the annual meeting april an increase in the authorized capital stock from five mln to mln shares reuter ',\n",
       "       'computer terminal systems cpml completes sale computer terminal systems inc said it has completed the sale of shares of its common stock and warrants to acquire an additional one mln shares to sedio n v of lugano switzerland for dlrs the company said the warrants are exercisable for five years at a purchase price of dlrs per share computer terminal said sedio also has the right to buy additional shares and increase its total holdings up to pct of the computer terminal s outstanding common stock under certain circumstances involving change of control at the company the company said if the conditions occur the warrants would be exercisable at a price equal to pct of its common stock s market price at the time not to exceed dlrs per share computer terminal also said it sold the technolgy rights to its dot matrix impact technology including any future improvements to woodco inc of houston tex for dlrs but it said it would continue to be the exclusive worldwide licensee of the technology for woodco the company said the moves were part of its reorganization plan and would help pay current operation costs and ensure product delivery computer terminal makes computer generated labels forms tags and ticket printers and terminals reuter ',\n",
       "       'cobanco inc cbco year net shr cts vs dlrs net vs assets mln vs mln deposits mln vs mln loans mln vs mln note th qtr not available year includes extraordinary gain from tax carry forward of dlrs or five cts per shr reuter '],\n",
       "      dtype=object)"
      ]
     },
     "execution_count": 9,
     "metadata": {},
     "output_type": "execute_result"
    }
   ],
   "source": [
    "articles0[:3]"
   ]
  },
  {
   "cell_type": "markdown",
   "metadata": {},
   "source": [
    "#### Case normalization"
   ]
  },
  {
   "cell_type": "code",
   "execution_count": 12,
   "metadata": {},
   "outputs": [
    {
     "data": {
      "text/plain": [
       "['champion products ch approves stock split champion products inc said its board of directors approved a two for one stock split of its common shares for shareholders of record as of april the company also said its board voted to recommend to shareholders at the annual meeting april an increase in the authorized capital stock from five mln to mln shares reuter ',\n",
       " 'computer terminal systems cpml completes sale computer terminal systems inc said it has completed the sale of shares of its common stock and warrants to acquire an additional one mln shares to sedio n v of lugano switzerland for dlrs the company said the warrants are exercisable for five years at a purchase price of dlrs per share computer terminal said sedio also has the right to buy additional shares and increase its total holdings up to pct of the computer terminal s outstanding common stock under certain circumstances involving change of control at the company the company said if the conditions occur the warrants would be exercisable at a price equal to pct of its common stock s market price at the time not to exceed dlrs per share computer terminal also said it sold the technolgy rights to its dot matrix impact technology including any future improvements to woodco inc of houston tex for dlrs but it said it would continue to be the exclusive worldwide licensee of the technology for woodco the company said the moves were part of its reorganization plan and would help pay current operation costs and ensure product delivery computer terminal makes computer generated labels forms tags and ticket printers and terminals reuter ',\n",
       " 'cobanco inc cbco year net shr cts vs dlrs net vs assets mln vs mln deposits mln vs mln loans mln vs mln note th qtr not available year includes extraordinary gain from tax carry forward of dlrs or five cts per shr reuter ']"
      ]
     },
     "execution_count": 12,
     "metadata": {},
     "output_type": "execute_result"
    }
   ],
   "source": [
    "articles_lower = [art.lower() for art in articles0]\n",
    "articles_lower[:3]"
   ]
  },
  {
   "cell_type": "markdown",
   "metadata": {},
   "source": [
    "#### Tokenize the articles   \n",
    "Use NLTKs word_tokenize for this "
   ]
  },
  {
   "cell_type": "code",
   "execution_count": 14,
   "metadata": {},
   "outputs": [],
   "source": [
    "from nltk.tokenize import word_tokenize\n",
    "article_tokens = [word_tokenize(art) for art in articles_lower]"
   ]
  },
  {
   "cell_type": "code",
   "execution_count": 16,
   "metadata": {},
   "outputs": [
    {
     "name": "stdout",
     "output_type": "stream",
     "text": [
      "[['champion', 'products', 'ch', 'approves', 'stock', 'split', 'champion', 'products', 'inc', 'said', 'its', 'board', 'of', 'directors', 'approved', 'a', 'two', 'for', 'one', 'stock', 'split', 'of', 'its', 'common', 'shares', 'for', 'shareholders', 'of', 'record', 'as', 'of', 'april', 'the', 'company', 'also', 'said', 'its', 'board', 'voted', 'to', 'recommend', 'to', 'shareholders', 'at', 'the', 'annual', 'meeting', 'april', 'an', 'increase', 'in', 'the', 'authorized', 'capital', 'stock', 'from', 'five', 'mln', 'to', 'mln', 'shares', 'reuter'], ['computer', 'terminal', 'systems', 'cpml', 'completes', 'sale', 'computer', 'terminal', 'systems', 'inc', 'said', 'it', 'has', 'completed', 'the', 'sale', 'of', 'shares', 'of', 'its', 'common', 'stock', 'and', 'warrants', 'to', 'acquire', 'an', 'additional', 'one', 'mln', 'shares', 'to', 'sedio', 'n', 'v', 'of', 'lugano', 'switzerland', 'for', 'dlrs', 'the', 'company', 'said', 'the', 'warrants', 'are', 'exercisable', 'for', 'five', 'years', 'at', 'a', 'purchase', 'price', 'of', 'dlrs', 'per', 'share', 'computer', 'terminal', 'said', 'sedio', 'also', 'has', 'the', 'right', 'to', 'buy', 'additional', 'shares', 'and', 'increase', 'its', 'total', 'holdings', 'up', 'to', 'pct', 'of', 'the', 'computer', 'terminal', 's', 'outstanding', 'common', 'stock', 'under', 'certain', 'circumstances', 'involving', 'change', 'of', 'control', 'at', 'the', 'company', 'the', 'company', 'said', 'if', 'the', 'conditions', 'occur', 'the', 'warrants', 'would', 'be', 'exercisable', 'at', 'a', 'price', 'equal', 'to', 'pct', 'of', 'its', 'common', 'stock', 's', 'market', 'price', 'at', 'the', 'time', 'not', 'to', 'exceed', 'dlrs', 'per', 'share', 'computer', 'terminal', 'also', 'said', 'it', 'sold', 'the', 'technolgy', 'rights', 'to', 'its', 'dot', 'matrix', 'impact', 'technology', 'including', 'any', 'future', 'improvements', 'to', 'woodco', 'inc', 'of', 'houston', 'tex', 'for', 'dlrs', 'but', 'it', 'said', 'it', 'would', 'continue', 'to', 'be', 'the', 'exclusive', 'worldwide', 'licensee', 'of', 'the', 'technology', 'for', 'woodco', 'the', 'company', 'said', 'the', 'moves', 'were', 'part', 'of', 'its', 'reorganization', 'plan', 'and', 'would', 'help', 'pay', 'current', 'operation', 'costs', 'and', 'ensure', 'product', 'delivery', 'computer', 'terminal', 'makes', 'computer', 'generated', 'labels', 'forms', 'tags', 'and', 'ticket', 'printers', 'and', 'terminals', 'reuter'], ['cobanco', 'inc', 'cbco', 'year', 'net', 'shr', 'cts', 'vs', 'dlrs', 'net', 'vs', 'assets', 'mln', 'vs', 'mln', 'deposits', 'mln', 'vs', 'mln', 'loans', 'mln', 'vs', 'mln', 'note', 'th', 'qtr', 'not', 'available', 'year', 'includes', 'extraordinary', 'gain', 'from', 'tax', 'carry', 'forward', 'of', 'dlrs', 'or', 'five', 'cts', 'per', 'shr', 'reuter']]\n"
     ]
    }
   ],
   "source": [
    "print(article_tokens[:3])"
   ]
  },
  {
   "cell_type": "markdown",
   "metadata": {},
   "source": [
    "#### Remove stop words"
   ]
  },
  {
   "cell_type": "code",
   "execution_count": 17,
   "metadata": {},
   "outputs": [],
   "source": [
    "from nltk.corpus import stopwords\n",
    "\n",
    "stop_nltk = stopwords.words(\"english\")"
   ]
  },
  {
   "cell_type": "code",
   "execution_count": 19,
   "metadata": {},
   "outputs": [],
   "source": [
    "def del_stop(inp_tokens):\n",
    "    res = [term for term in inp_tokens if term not in stop_nltk]\n",
    "    return res"
   ]
  },
  {
   "cell_type": "markdown",
   "metadata": {},
   "source": [
    "Applying this to our entire article base using a list comprehension"
   ]
  },
  {
   "cell_type": "code",
   "execution_count": 20,
   "metadata": {},
   "outputs": [],
   "source": [
    "articles_nostop = [del_stop(art) for art in article_tokens]"
   ]
  },
  {
   "cell_type": "code",
   "execution_count": 22,
   "metadata": {},
   "outputs": [
    {
     "name": "stdout",
     "output_type": "stream",
     "text": [
      "[['champion', 'products', 'ch', 'approves', 'stock', 'split', 'champion', 'products', 'inc', 'said', 'board', 'directors', 'approved', 'two', 'one', 'stock', 'split', 'common', 'shares', 'shareholders', 'record', 'april', 'company', 'also', 'said', 'board', 'voted', 'recommend', 'shareholders', 'annual', 'meeting', 'april', 'increase', 'authorized', 'capital', 'stock', 'five', 'mln', 'mln', 'shares', 'reuter'], ['computer', 'terminal', 'systems', 'cpml', 'completes', 'sale', 'computer', 'terminal', 'systems', 'inc', 'said', 'completed', 'sale', 'shares', 'common', 'stock', 'warrants', 'acquire', 'additional', 'one', 'mln', 'shares', 'sedio', 'n', 'v', 'lugano', 'switzerland', 'dlrs', 'company', 'said', 'warrants', 'exercisable', 'five', 'years', 'purchase', 'price', 'dlrs', 'per', 'share', 'computer', 'terminal', 'said', 'sedio', 'also', 'right', 'buy', 'additional', 'shares', 'increase', 'total', 'holdings', 'pct', 'computer', 'terminal', 'outstanding', 'common', 'stock', 'certain', 'circumstances', 'involving', 'change', 'control', 'company', 'company', 'said', 'conditions', 'occur', 'warrants', 'would', 'exercisable', 'price', 'equal', 'pct', 'common', 'stock', 'market', 'price', 'time', 'exceed', 'dlrs', 'per', 'share', 'computer', 'terminal', 'also', 'said', 'sold', 'technolgy', 'rights', 'dot', 'matrix', 'impact', 'technology', 'including', 'future', 'improvements', 'woodco', 'inc', 'houston', 'tex', 'dlrs', 'said', 'would', 'continue', 'exclusive', 'worldwide', 'licensee', 'technology', 'woodco', 'company', 'said', 'moves', 'part', 'reorganization', 'plan', 'would', 'help', 'pay', 'current', 'operation', 'costs', 'ensure', 'product', 'delivery', 'computer', 'terminal', 'makes', 'computer', 'generated', 'labels', 'forms', 'tags', 'ticket', 'printers', 'terminals', 'reuter'], ['cobanco', 'inc', 'cbco', 'year', 'net', 'shr', 'cts', 'vs', 'dlrs', 'net', 'vs', 'assets', 'mln', 'vs', 'mln', 'deposits', 'mln', 'vs', 'mln', 'loans', 'mln', 'vs', 'mln', 'note', 'th', 'qtr', 'available', 'year', 'includes', 'extraordinary', 'gain', 'tax', 'carry', 'forward', 'dlrs', 'five', 'cts', 'per', 'shr', 'reuter']]\n"
     ]
    }
   ],
   "source": [
    "print(articles_nostop[:3])"
   ]
  },
  {
   "cell_type": "markdown",
   "metadata": {},
   "source": [
    "### Feature engineering - using TfIdf to represent each document"
   ]
  },
  {
   "cell_type": "code",
   "execution_count": 23,
   "metadata": {},
   "outputs": [],
   "source": [
    "from sklearn.feature_extraction.text import TfidfVectorizer\n",
    "vectorizer=TfidfVectorizer(max_features=3000)"
   ]
  },
  {
   "cell_type": "markdown",
   "metadata": {},
   "source": [
    "#### Joining the tokens back into a string"
   ]
  },
  {
   "cell_type": "code",
   "execution_count": 27,
   "metadata": {},
   "outputs": [],
   "source": [
    "articles_string = [\" \".join(art) for art in articles_nostop]"
   ]
  },
  {
   "cell_type": "code",
   "execution_count": 28,
   "metadata": {},
   "outputs": [
    {
     "data": {
      "text/plain": [
       "['champion products ch approves stock split champion products inc said board directors approved two one stock split common shares shareholders record april company also said board voted recommend shareholders annual meeting april increase authorized capital stock five mln mln shares reuter',\n",
       " 'computer terminal systems cpml completes sale computer terminal systems inc said completed sale shares common stock warrants acquire additional one mln shares sedio n v lugano switzerland dlrs company said warrants exercisable five years purchase price dlrs per share computer terminal said sedio also right buy additional shares increase total holdings pct computer terminal outstanding common stock certain circumstances involving change control company company said conditions occur warrants would exercisable price equal pct common stock market price time exceed dlrs per share computer terminal also said sold technolgy rights dot matrix impact technology including future improvements woodco inc houston tex dlrs said would continue exclusive worldwide licensee technology woodco company said moves part reorganization plan would help pay current operation costs ensure product delivery computer terminal makes computer generated labels forms tags ticket printers terminals reuter',\n",
       " 'cobanco inc cbco year net shr cts vs dlrs net vs assets mln vs mln deposits mln vs mln loans mln vs mln note th qtr available year includes extraordinary gain tax carry forward dlrs five cts per shr reuter']"
      ]
     },
     "execution_count": 28,
     "metadata": {},
     "output_type": "execute_result"
    }
   ],
   "source": [
    "articles_string[:3]"
   ]
  },
  {
   "cell_type": "markdown",
   "metadata": {},
   "source": [
    "#### Applying TfIdf on the data"
   ]
  },
  {
   "cell_type": "code",
   "execution_count": 29,
   "metadata": {
    "scrolled": true
   },
   "outputs": [],
   "source": [
    "articles_tfidf =vectorizer.fit_transform(articles_string)"
   ]
  },
  {
   "cell_type": "code",
   "execution_count": 30,
   "metadata": {},
   "outputs": [
    {
     "data": {
      "text/plain": [
       "(5485, 3000)"
      ]
     },
     "execution_count": 30,
     "metadata": {},
     "output_type": "execute_result"
    }
   ],
   "source": [
    "articles_tfidf.shape"
   ]
  },
  {
   "cell_type": "code",
   "execution_count": 36,
   "metadata": {},
   "outputs": [],
   "source": [
    "tfidf_dense = articles_tfidf.todense()"
   ]
  },
  {
   "cell_type": "code",
   "execution_count": 37,
   "metadata": {},
   "outputs": [
    {
     "data": {
      "text/plain": [
       "numpy.matrixlib.defmatrix.matrix"
      ]
     },
     "execution_count": 37,
     "metadata": {},
     "output_type": "execute_result"
    }
   ],
   "source": [
    "type(tfidf_dense)"
   ]
  },
  {
   "cell_type": "markdown",
   "metadata": {},
   "source": [
    "#### Cosine similarity between any two vectors"
   ]
  },
  {
   "cell_type": "code",
   "execution_count": 38,
   "metadata": {},
   "outputs": [],
   "source": [
    "from sklearn.metrics.pairwise import cosine_similarity"
   ]
  },
  {
   "cell_type": "code",
   "execution_count": 46,
   "metadata": {},
   "outputs": [
    {
     "data": {
      "text/plain": [
       "array([[0.51969816]])"
      ]
     },
     "execution_count": 46,
     "metadata": {},
     "output_type": "execute_result"
    }
   ],
   "source": [
    "cosine_similarity(tfidf_dense[3,:], tfidf_dense[4,:])"
   ]
  },
  {
   "cell_type": "code",
   "execution_count": 48,
   "metadata": {},
   "outputs": [
    {
     "data": {
      "text/plain": [
       "['international inc nd qtr jan oper shr loss two cts vs profit seven cts oper shr profit vs profit revs mln vs mln avg shrs mln vs mln six mths oper shr profit nil vs profit cts oper net profit vs profit revs mln vs mln avg shrs mln vs mln note per shr calculated payment preferred dividends results exclude credits four cts nine cts qtr six mths vs six cts cts prior periods operating loss carryforwards reuter',\n",
       " 'brown forman inc bfd th qtr net shr one dlr vs cts net mln vs mln revs mln vs mln nine mths shr dlrs vs dlrs net mln vs mln revs billion vs mln reuter']"
      ]
     },
     "execution_count": 48,
     "metadata": {},
     "output_type": "execute_result"
    }
   ],
   "source": [
    "articles_string[3:5]"
   ]
  },
  {
   "cell_type": "code",
   "execution_count": 44,
   "metadata": {},
   "outputs": [
    {
     "data": {
      "text/plain": [
       "array([[0.51969816]])"
      ]
     },
     "execution_count": 44,
     "metadata": {},
     "output_type": "execute_result"
    }
   ],
   "source": [
    "cosine_similarity(tfidf_dense[3,:], tfidf_dense[4,:])"
   ]
  },
  {
   "cell_type": "markdown",
   "metadata": {},
   "source": [
    "#### Defining function to -"
   ]
  },
  {
   "cell_type": "markdown",
   "metadata": {},
   "source": [
    "a.\tFor any given row number, extract the TfIdf vector  \n",
    "b.\tCompute similarity of this vector with all the others  \n",
    "c.\tGet indices of the top 5 matches  \n",
    "d.\tReturn the text for the top 5 matches, and the text of the target row  "
   ]
  },
  {
   "cell_type": "code",
   "execution_count": 57,
   "metadata": {},
   "outputs": [],
   "source": [
    "target_row = 4"
   ]
  },
  {
   "cell_type": "code",
   "execution_count": 58,
   "metadata": {},
   "outputs": [],
   "source": [
    "target_vector = tfidf_dense[target_row,:]"
   ]
  },
  {
   "cell_type": "code",
   "execution_count": 59,
   "metadata": {},
   "outputs": [
    {
     "name": "stdout",
     "output_type": "stream",
     "text": [
      "brown forman inc bfd th qtr net shr one dlr vs cts net mln vs mln revs mln vs mln nine mths shr dlrs vs dlrs net mln vs mln revs billion vs mln reuter\n"
     ]
    }
   ],
   "source": [
    "print(articles_string[target_row])"
   ]
  },
  {
   "cell_type": "code",
   "execution_count": 75,
   "metadata": {},
   "outputs": [],
   "source": [
    "sim_scores = []\n",
    "\n",
    "for ind, vector in enumerate(tfidf_dense):\n",
    "    sim = cosine_similarity(target_vector, tfidf_dense[ind,:])[0][0]\n",
    "    sim_scores.append(sim)"
   ]
  },
  {
   "cell_type": "markdown",
   "metadata": {},
   "source": [
    "#### Making a pandas series of similarity scores for easy manipulation"
   ]
  },
  {
   "cell_type": "code",
   "execution_count": 77,
   "metadata": {},
   "outputs": [
    {
     "data": {
      "text/plain": [
       "5485"
      ]
     },
     "execution_count": 77,
     "metadata": {},
     "output_type": "execute_result"
    }
   ],
   "source": [
    "len(sim_scores)"
   ]
  },
  {
   "cell_type": "code",
   "execution_count": 78,
   "metadata": {},
   "outputs": [
    {
     "data": {
      "text/plain": [
       "5485"
      ]
     },
     "execution_count": 78,
     "metadata": {},
     "output_type": "execute_result"
    }
   ],
   "source": [
    "tfidf_dense.shape[0]"
   ]
  },
  {
   "cell_type": "code",
   "execution_count": 82,
   "metadata": {},
   "outputs": [
    {
     "data": {
      "text/plain": [
       "0    0.076767\n",
       "1    0.037874\n",
       "2    0.619848\n",
       "3    0.519698\n",
       "4    1.000000\n",
       "dtype: float64"
      ]
     },
     "execution_count": 82,
     "metadata": {},
     "output_type": "execute_result"
    }
   ],
   "source": [
    "similarity = pd.Series(sim_scores)\n",
    "similarity.head()"
   ]
  },
  {
   "cell_type": "code",
   "execution_count": 96,
   "metadata": {},
   "outputs": [],
   "source": [
    "top5_scores = similarity.sort_values(ascending=False).head(6)[1:]"
   ]
  },
  {
   "cell_type": "code",
   "execution_count": 97,
   "metadata": {},
   "outputs": [
    {
     "data": {
      "text/plain": [
       "array([3633, 1526, 3939, 3686,  427], dtype=int64)"
      ]
     },
     "execution_count": 97,
     "metadata": {},
     "output_type": "execute_result"
    }
   ],
   "source": [
    "top5_index = top5_scores.index.values\n",
    "top5_index"
   ]
  },
  {
   "cell_type": "code",
   "execution_count": 102,
   "metadata": {},
   "outputs": [
    {
     "name": "stdout",
     "output_type": "stream",
     "text": [
      "Similarity score:0.9\n",
      "Article text: technitrol inc tnl th qtr shr cts vs cts net mln vs revs mln vs mln year shr dlrs vs dlrs net mln vs mln revs mln vs mln reuter\n",
      "\n",
      "Similarity score:0.88\n",
      "Article text: vista resources inc vist th qtr net shr dlrs vs one dlr net vs revs mln vs mln mths shr dlrs vs dlrs net vs revs mln vs mln reuter\n",
      "\n",
      "Similarity score:0.87\n",
      "Article text: nike inc nike rd qtr feb net shr cts vs cts net vs mln revs mln vs mln nine mths shr cts vs dlrs net mln vs mln revs mln vs mln reuter\n",
      "\n",
      "Similarity score:0.87\n",
      "Article text: quick reilly group bqr th qtr feb shr cts vs cts net mln vs mln revs mln vs mln year shr dlrs vs dlr net mln vs mln revs mln vs mln reuter\n",
      "\n",
      "Similarity score:0.87\n",
      "Article text: kay jewelers inc kji th qtr net shr dlrs vs dlrs net mln vs revs mln vs mln year shr dlrs vs dlrs net vs revs mln vs mln reuter\n",
      "\n"
     ]
    }
   ],
   "source": [
    "for ind in top5_index:\n",
    "    print(\"Similarity score:\" + str(round(top5_scores[ind],2)) + \"\\n\" + \"Article text: \" + articles_string[ind] + \"\\n\")"
   ]
  },
  {
   "cell_type": "code",
   "execution_count": 104,
   "metadata": {},
   "outputs": [],
   "source": [
    "def get_top5(target_row):\n",
    "    target_vector = tfidf_dense[target_row,:]\n",
    "    \n",
    "    sim_scores = []\n",
    "    for ind, vector in enumerate(tfidf_dense):\n",
    "        sim = cosine_similarity(target_vector, tfidf_dense[ind,:])[0][0]\n",
    "        sim_scores.append(sim)\n",
    "    \n",
    "    \n",
    "    similarity = pd.Series(sim_scores)\n",
    "    top5_scores = similarity.sort_values(ascending=False).head(6)[1:]\n",
    "    top5_index = top5_scores.index.values\n",
    "    \n",
    "    for ind in top5_index:\n",
    "        print(\"Similarity score:\" + str(round(top5_scores[ind],2)) + \"\\n\" + \"Article text: \" + articles_string[ind] + \"\\n\")"
   ]
  },
  {
   "cell_type": "code",
   "execution_count": 108,
   "metadata": {
    "scrolled": true
   },
   "outputs": [
    {
     "name": "stdout",
     "output_type": "stream",
     "text": [
      "Similarity score:0.9\n",
      "Article text: technitrol inc tnl th qtr shr cts vs cts net mln vs revs mln vs mln year shr dlrs vs dlrs net mln vs mln revs mln vs mln reuter\n",
      "\n",
      "Similarity score:0.88\n",
      "Article text: vista resources inc vist th qtr net shr dlrs vs one dlr net vs revs mln vs mln mths shr dlrs vs dlrs net vs revs mln vs mln reuter\n",
      "\n",
      "Similarity score:0.87\n",
      "Article text: nike inc nike rd qtr feb net shr cts vs cts net vs mln revs mln vs mln nine mths shr cts vs dlrs net mln vs mln revs mln vs mln reuter\n",
      "\n",
      "Similarity score:0.87\n",
      "Article text: quick reilly group bqr th qtr feb shr cts vs cts net mln vs mln revs mln vs mln year shr dlrs vs dlr net mln vs mln revs mln vs mln reuter\n",
      "\n",
      "Similarity score:0.87\n",
      "Article text: kay jewelers inc kji th qtr net shr dlrs vs dlrs net mln vs revs mln vs mln year shr dlrs vs dlrs net vs revs mln vs mln reuter\n",
      "\n"
     ]
    }
   ],
   "source": [
    "get_top5(4)"
   ]
  },
  {
   "cell_type": "code",
   "execution_count": null,
   "metadata": {},
   "outputs": [],
   "source": [
    "for ind in top5_index:\n",
    "    print(\"Similarity score:\" + str(round(top5_scores[ind],2)) + \"\\n\" + \"Article text: \" + articles_string[ind] + \"\\n\")"
   ]
  },
  {
   "cell_type": "code",
   "execution_count": 119,
   "metadata": {},
   "outputs": [],
   "source": [
    "def get_top5_query(qry):\n",
    "    #target_vector = tfidf_dense[target_row,:]\n",
    "    target_vector = vectorizer.transform([qry])\n",
    "    \n",
    "    sim_scores = []\n",
    "    for ind, vector in enumerate(tfidf_dense):\n",
    "        sim = cosine_similarity(target_vector, tfidf_dense[ind,:])[0][0]\n",
    "        sim_scores.append(sim)\n",
    "    \n",
    "    similarity = pd.Series(sim_scores)\n",
    "    top5_scores = similarity.sort_values(ascending=False).head(5)\n",
    "    top5_index = top5_scores.index.values\n",
    "    \n",
    "    print(\"Search query: \" + qry + \"\\n\")\n",
    "    \n",
    "    for ind in top5_index:\n",
    "        print(\"Similarity score:\" + str(round(top5_scores[ind],2)) + \"\\n\" + \"Article text: \" + articles_string[ind] + \"\\n\")"
   ]
  },
  {
   "cell_type": "code",
   "execution_count": 120,
   "metadata": {},
   "outputs": [
    {
     "name": "stdout",
     "output_type": "stream",
     "text": [
      "Search query: crude oil price\n",
      "\n",
      "Similarity score:0.49\n",
      "Article text: phillips p raises crude postings cts phillips petroleum said raised contract price grades crude oil cts barrel effective today increase brings phillip posted price west texas intermediate west texas sour grades dlrs bbl phillips last changed crude oil postings march price increase follows similar moves usx x subsidiary marathon oil sun co sun earlier today reuter\n",
      "\n",
      "Similarity score:0.44\n",
      "Article text: marathon petroleum reduces crude postings marathon petroleum co said reduced contract price pay grades crude oil one dlr barrel effective today decrease brings marathon posted price west texas intermediate west texas sour dlrs bbl south louisiana sweet grade crude reduced dlrs bbl company last changed crude postings jan reuter\n",
      "\n",
      "Similarity score:0.43\n",
      "Article text: diamond shamrock dia cuts crude prices diamond shamrock corp said effective today cut contract prices crude oil dlrs barrel reduction brings posted price west texas intermediate dlrs barrel copany said price reduction today made light falling oil product prices weak crude oil market company spokeswoman said diamond latest line u oil companies cut contract posted prices last two days citing weak oil markets reuter\n",
      "\n",
      "Similarity score:0.41\n",
      "Article text: imperial oil imo talks suppliers imperial oil ltd pct owned exxon corp xon negotiating major crude oil suppliers concerning effects trial deregulation alberta shut crude oil production scheduled implemented june company spokesman said point view question entering negotiations discussions make appropriate changes contracts reflect changes going take place june spokesman john cote told reuters reply query commenting published reports imperial suspended oil supply contracts cote said question cancelling suspending agreements point june alberta energy resources conservation board lift crude oil marketing prorationing system regulating shut light medium crude production trial basis end new system producers refiners allowed negotiate volumes shut oil delivered purchase contracts shut crude surplus total amount oil produced amount purchased refiners talked number major suppliers discussed upcoming change nothing finalized imperial manager western crude supply gary strong said alberta trial system imperial wants match reasonable supply crude company forecast demand refineries strong said know relates need total said strong said figures amount crude production imperial purchases outside suppliers immediately available reuter\n",
      "\n",
      "Similarity score:0.4\n",
      "Article text: texaco canada txc lowers crude postings texaco canada said lowered contract price pay crude oil canadian cts barrel effective today decrease brings company posted price benchmark grade edmonton swann hills light sweet canadian dlrs bbl texaco canada last changed crude oil postings feb reuter\n",
      "\n"
     ]
    }
   ],
   "source": [
    "get_top5_query(\"crude oil price\")"
   ]
  },
  {
   "cell_type": "code",
   "execution_count": 134,
   "metadata": {},
   "outputs": [
    {
     "name": "stdout",
     "output_type": "stream",
     "text": [
      "Search query: computer systems\n",
      "\n",
      "Similarity score:0.55\n",
      "Article text: vertex vetx buy computer transceiver stake vertex industries inc computer transceiver systems inc jointly announced agreement vertex acquire pct interest computer completes proposed reorganization computer reorganization proceedings chapter since september companies said agreement would allow computer unsecured creditors debenture holders receive new stock exchange exsiting debt shareholders receive one new share computer stock four shares previously held companies said united states bankruptcy court southern district new york given preliminary approval proposal subject formal approval computer creditors court agreement vertex also said would supply computer dlrs operating funds arrange renegotiation secured bank debt among things reuter\n",
      "\n",
      "Similarity score:0.53\n",
      "Article text: aw computer systems inc awcsa year end dec shr cts vs cts net vs revs vs reuter\n",
      "\n",
      "Similarity score:0.48\n",
      "Article text: hogan systems hogn acquisition hogan systems inc said acquired systems inc durango colo mln dlrs hogan said systems provides integrated applications software processing services community banks systems revenues mln dlrs year hogan said reuter\n",
      "\n",
      "Similarity score:0.48\n",
      "Article text: altex aii sets acquisition computer firms altex industries inc said agreed principle buy pct two privately held affiliated computer retail companies undisclosed amount altex said denver based companies revenues seven mln dlrs last year integrated management data systems inc sells accounting software systems oil gas industry integrated management systems micro distribution division inc distributes micro computer products altex said expects close transaction subject financing july reuter\n",
      "\n",
      "Similarity score:0.46\n",
      "Article text: sci scis buys fortune fsys computer assets fortune systems corp sci systems inc said signed letter intent covering purchase fortune microcomputer business assets unspecified amount cash fortune systems makes desktop computer systems reuter\n",
      "\n"
     ]
    }
   ],
   "source": [
    "get_top5_query(\"computer systems\")"
   ]
  }
 ],
 "metadata": {
  "kernelspec": {
   "display_name": "Python 3",
   "language": "python",
   "name": "python3"
  },
  "language_info": {
   "codemirror_mode": {
    "name": "ipython",
    "version": 3
   },
   "file_extension": ".py",
   "mimetype": "text/x-python",
   "name": "python",
   "nbconvert_exporter": "python",
   "pygments_lexer": "ipython3",
   "version": "3.6.5"
  }
 },
 "nbformat": 4,
 "nbformat_minor": 2
}
